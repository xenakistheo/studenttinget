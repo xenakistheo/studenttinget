{
 "cells": [
  {
   "cell_type": "code",
   "execution_count": 83,
   "metadata": {},
   "outputs": [],
   "source": [
    "from supabase import create_client, Client\n",
    "from dotenv import load_dotenv\n",
    "import os\n"
   ]
  },
  {
   "cell_type": "code",
   "execution_count": null,
   "metadata": {},
   "outputs": [],
   "source": [
    "load_dotenv()\n",
    "\n",
    "SUPABASE_URL = os.getenv(\"NEXT_PUBLIC_SUPABASE_URL\")\n",
    "SUPABASE_KEY = os.getenv(\"NEXT_PUBLIC_SUPABASE_ANON_KEY\")\n",
    "AUTH_EMAIL = os.getenv(\"AUTH_EMAIL\")\n",
    "AUTH_PASSWORD = os.getenv(\"AUTH_PASSWORD\")\n",
    "SERVICE_KEY = os.getenv(\"SERVICE_KEY\")\n",
    "\n",
    "if not SUPABASE_URL or not SUPABASE_KEY:\n",
    "    raise ValueError(\"SUPABASE_URL and SUPABASE_KEY must be set in the .env file.\")\n",
    "\n",
    "print(f\"Connecting to Supabase: {SUPABASE_URL}\")\n",
    "\n",
    "supabase: Client = create_client(SUPABASE_URL, SUPABASE_KEY)"
   ]
  },
  {
   "cell_type": "code",
   "execution_count": null,
   "metadata": {},
   "outputs": [],
   "source": [
    "data = {\"pdf_name\": \"example.pdf\", \"pdf_url\": \"jjn\", \"extracted_text\": \"Some extracted text\"}\n",
    "\n",
    "response = supabase.table(\"pdf_texts\").insert(data).execute()\n",
    "print(response)"
   ]
  },
  {
   "cell_type": "code",
   "execution_count": null,
   "metadata": {},
   "outputs": [],
   "source": [
    "supabase = create_client(SUPABASE_URL, SUPABASE_KEY)\n",
    "\n",
    "# Authenticate user\n",
    "auth_response = supabase.auth.sign_in_with_password({\"email\": AUTH_EMAIL, \"password\": AUTH_PASSWORD})\n",
    "\n",
    "# Get the session token\n",
    "if auth_response and auth_response.session:\n",
    "    access_token = auth_response.session.access_token\n",
    "    print(\"Authenticated successfully!\")\n",
    "\n",
    "    # ✅ Use the access token in authorized requests\n",
    "    headers = {\"Authorization\": f\"Bearer {access_token}\"}\n",
    "\n",
    "    # Example: Fetch user data with the authenticated session\n",
    "    user_response = supabase.auth.get_user(access_token)\n",
    "    print(user_response)\n",
    "\n",
    "else:\n",
    "    print(\"Authentication failed!\")\n"
   ]
  },
  {
   "cell_type": "code",
   "execution_count": 57,
   "metadata": {},
   "outputs": [],
   "source": [
    "response = supabase.table(\"databaseDEMO\").select(\"*\").execute()"
   ]
  },
  {
   "cell_type": "code",
   "execution_count": null,
   "metadata": {},
   "outputs": [],
   "source": [
    "vars(response)"
   ]
  },
  {
   "cell_type": "code",
   "execution_count": null,
   "metadata": {},
   "outputs": [],
   "source": [
    "response = supabase.table(\"databaseDEMO\").select(\"*\").eq(\"aarstall\", 2000).execute()\n",
    "print(response.data)"
   ]
  },
  {
   "cell_type": "code",
   "execution_count": null,
   "metadata": {},
   "outputs": [],
   "source": [
    "response = supabase.storage.from_(\"politikk\").list(\"Aktiv/plattformer\")\n",
    "\n",
    "for file in response:\n",
    "    print(file['name'])"
   ]
  },
  {
   "cell_type": "code",
   "execution_count": 5,
   "metadata": {},
   "outputs": [],
   "source": [
    "import pdfplumber"
   ]
  },
  {
   "cell_type": "code",
   "execution_count": null,
   "metadata": {},
   "outputs": [],
   "source": [
    "\n",
    "\n",
    "# Path to your PDF file\n",
    "pdf_path = \"/Users/theoxenakis/Desktop/VedtattArbeidsprogram2024.pdf\"\n",
    "\n",
    "# Open the PDF file\n",
    "with pdfplumber.open(pdf_path) as pdf:\n",
    "    for page_num, page in enumerate(pdf.pages, start=1):\n",
    "        text = page.extract_text()\n",
    "        print(f\"--- Page {page_num} ---\\n\")\n",
    "        print(text)\n",
    "        print(\"\\n\" + \"-\" * 50 + \"\\n\")"
   ]
  },
  {
   "cell_type": "code",
   "execution_count": null,
   "metadata": {},
   "outputs": [],
   "source": []
  }
 ],
 "metadata": {
  "kernelspec": {
   "display_name": ".venv",
   "language": "python",
   "name": "python3"
  },
  "language_info": {
   "codemirror_mode": {
    "name": "ipython",
    "version": 3
   },
   "file_extension": ".py",
   "mimetype": "text/x-python",
   "name": "python",
   "nbconvert_exporter": "python",
   "pygments_lexer": "ipython3",
   "version": "3.10.11"
  }
 },
 "nbformat": 4,
 "nbformat_minor": 2
}
