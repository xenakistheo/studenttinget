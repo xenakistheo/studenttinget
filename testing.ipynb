{
 "cells": [
  {
   "cell_type": "code",
   "execution_count": 1,
   "metadata": {},
   "outputs": [],
   "source": [
    "from supabase import create_client, Client\n",
    "from dotenv import load_dotenv\n",
    "import os\n"
   ]
  },
  {
   "cell_type": "code",
   "execution_count": null,
   "metadata": {},
   "outputs": [],
   "source": [
    "load_dotenv()\n",
    "\n",
    "SUPABASE_URL = os.getenv(\"NEXT_PUBLIC_SUPABASE_URL\")\n",
    "SUPABASE_KEY = os.getenv(\"NEXT_PUBLIC_SUPABASE_ANON_KEY\")\n",
    "AUTH_EMAIL = os.getenv(\"AUTH_EMAIL\")\n",
    "AUTH_PASSWORD = os.getenv(\"AUTH_PASSWORD\")\n",
    "\n",
    "if not SUPABASE_URL or not SUPABASE_KEY:\n",
    "    raise ValueError(\"SUPABASE_URL and SUPABASE_KEY must be set in the .env file.\")\n",
    "\n",
    "print(f\"Connecting to Supabase: {SUPABASE_URL}\")\n",
    "\n",
    "supabase: Client = create_client(SUPABASE_URL, SUPABASE_KEY)"
   ]
  },
  {
   "cell_type": "code",
   "execution_count": null,
   "metadata": {},
   "outputs": [],
   "source": [
    "auth_response = supabase.auth.sign_in_with_password({\"email\": AUTH_EMAIL, \"password\": AUTH_PASSWORD})\n",
    "\n",
    "# Get the user session token\n",
    "if auth_response and auth_response.session:\n",
    "    access_token = auth_response.session.access_token\n",
    "    print(\"Authenticated successfully!\")\n",
    "\n",
    "    # Use the token for authorized requests\n",
    "    supabase = create_client(SUPABASE_URL, access_token)\n",
    "\n",
    "    # Now you can insert data\n",
    "    insert_response = supabase.table(\"databaseDEMO\").insert({\"column_name\": \"value\"}).execute()\n",
    "    print(insert_response)\n",
    "else:\n",
    "    print(\"Authentication failed!\")"
   ]
  },
  {
   "cell_type": "code",
   "execution_count": 71,
   "metadata": {},
   "outputs": [],
   "source": [
    "response = supabase.table(\"databaseDEMO\").select(\"*\").execute()"
   ]
  },
  {
   "cell_type": "code",
   "execution_count": null,
   "metadata": {},
   "outputs": [],
   "source": [
    "vars(response)"
   ]
  },
  {
   "cell_type": "code",
   "execution_count": null,
   "metadata": {},
   "outputs": [],
   "source": [
    "response = supabase.table(\"databaseDEMO\").select(\"*\").eq(\"aarstall\", 2000).execute()\n",
    "print(response.data)"
   ]
  },
  {
   "cell_type": "code",
   "execution_count": null,
   "metadata": {},
   "outputs": [],
   "source": []
  }
 ],
 "metadata": {
  "kernelspec": {
   "display_name": ".venv",
   "language": "python",
   "name": "python3"
  },
  "language_info": {
   "codemirror_mode": {
    "name": "ipython",
    "version": 3
   },
   "file_extension": ".py",
   "mimetype": "text/x-python",
   "name": "python",
   "nbconvert_exporter": "python",
   "pygments_lexer": "ipython3",
   "version": "3.10.11"
  }
 },
 "nbformat": 4,
 "nbformat_minor": 2
}
